{
 "cells": [
  {
   "cell_type": "code",
   "execution_count": 23,
   "id": "respective-joining",
   "metadata": {},
   "outputs": [],
   "source": [
    "import random"
   ]
  },
  {
   "cell_type": "code",
   "execution_count": 36,
   "id": "raising-defensive",
   "metadata": {},
   "outputs": [],
   "source": [
    "try:\n",
    "    import cirq  \n",
    "except ModuleNotFoundError:\n",
    "    import subprocess\n",
    "    subprocess.run([\"pip\", \"install\", \"cirq\"], capture_output=True)\n",
    "    import cirq\n",
    "cirq.__version__\n",
    "\n",
    "from cirq import H, X, CNOT, measure"
   ]
  },
  {
   "cell_type": "code",
   "execution_count": 37,
   "id": "excited-malaysia",
   "metadata": {},
   "outputs": [],
   "source": [
    "q0, q1 = cirq.LineQubit.range(2)"
   ]
  },
  {
   "cell_type": "code",
   "execution_count": 38,
   "id": "invisible-contract",
   "metadata": {},
   "outputs": [],
   "source": [
    "secret_function = [random.randint(0, 1) for _ in range(2)]"
   ]
  },
  {
   "cell_type": "code",
   "execution_count": 39,
   "id": "acknowledged-typing",
   "metadata": {},
   "outputs": [],
   "source": [
    "def make_oracle(q0, q1, secret_function):\n",
    "    \n",
    "    if secret_function[0]:\n",
    "        yield [CNOT(q0, q1), X(q1)]\n",
    "    \n",
    "    if secret_function[1]:\n",
    "        yield CNOT(q0, q1)"
   ]
  },
  {
   "cell_type": "code",
   "execution_count": 40,
   "id": "interstate-yemen",
   "metadata": {},
   "outputs": [],
   "source": [
    "oracle = make_oracle(q0, q1, secret_function)"
   ]
  },
  {
   "cell_type": "code",
   "execution_count": 41,
   "id": "twelve-authority",
   "metadata": {},
   "outputs": [
    {
     "name": "stdout",
     "output_type": "stream",
     "text": [
      "Secret function:\n",
      "f(x) = <1, 1>\n"
     ]
    }
   ],
   "source": [
    "    print(f\"Secret function:\\nf(x) = <{', '.join(str(e) for e in secret_function)}>\")"
   ]
  },
  {
   "cell_type": "code",
   "execution_count": 48,
   "id": "involved-nirvana",
   "metadata": {},
   "outputs": [],
   "source": [
    "def make_deutsch_circuit(q0, q1, oracle):\n",
    "    c = cirq.Circuit()\n",
    "    \n",
    "    c.append([X(q1), H(q1), H(q0)])\n",
    "    \n",
    "    c.append(oracle)\n",
    "    \n",
    "    c.append([H(q0), measure(q0, key='result')])\n",
    "    return c"
   ]
  },
  {
   "cell_type": "code",
   "execution_count": 49,
   "id": "alleged-liberty",
   "metadata": {},
   "outputs": [
    {
     "name": "stdout",
     "output_type": "stream",
     "text": [
      "Circuit:\n",
      "0: ───H───────@───────@───H───M('result')───\n",
      "              │       │\n",
      "1: ───X───H───X───X───X─────────────────────\n"
     ]
    }
   ],
   "source": [
    "circuit = make_deutsch_circuit(q0, q1, oracle)\n",
    "print('Circuit:')\n",
    "print(circuit)"
   ]
  },
  {
   "cell_type": "code",
   "execution_count": 50,
   "id": "bulgarian-courage",
   "metadata": {},
   "outputs": [
    {
     "data": {
      "text/plain": [
       "<cirq.sim.sparse_simulator.Simulator at 0x7f357e38d050>"
      ]
     },
     "execution_count": 50,
     "metadata": {},
     "output_type": "execute_result"
    }
   ],
   "source": [
    "cirq.Simulator()"
   ]
  },
  {
   "cell_type": "code",
   "execution_count": null,
   "id": "covered-wallace",
   "metadata": {},
   "outputs": [],
   "source": [
    "result = simulator.run(ci)"
   ]
  }
 ],
 "metadata": {
  "environment": {
   "name": "tf2-gpu.2-3.m65",
   "type": "gcloud",
   "uri": "gcr.io/deeplearning-platform-release/tf2-gpu.2-3:m65"
  },
  "kernelspec": {
   "display_name": "Python 3",
   "language": "python",
   "name": "python3"
  },
  "language_info": {
   "codemirror_mode": {
    "name": "ipython",
    "version": 3
   },
   "file_extension": ".py",
   "mimetype": "text/x-python",
   "name": "python",
   "nbconvert_exporter": "python",
   "pygments_lexer": "ipython3",
   "version": "3.7.10"
  }
 },
 "nbformat": 4,
 "nbformat_minor": 5
}
